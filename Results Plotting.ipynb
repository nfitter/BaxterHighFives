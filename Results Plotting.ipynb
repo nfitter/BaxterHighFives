{
 "metadata": {
  "name": ""
 },
 "nbformat": 3,
 "nbformat_minor": 0,
 "worksheets": [
  {
   "cells": [
    {
     "cell_type": "code",
     "collapsed": false,
     "input": [
      "# Import necessary packages\n",
      "import matplotlib.pyplot as plt\n",
      "import os\n",
      "import csv\n",
      "import numpy as np\n",
      "from scipy.signal import argrelextrema\n",
      "\n",
      "# Define method of reading columns from csv file\n",
      "def getColumn(filename, column):\n",
      "    results = csv.reader(open(filename), delimiter=\",\")\n",
      "    return [result[column] for result in results]\n",
      "\n",
      "# Navigate to directory where csv is located\n",
      "cur_dir = '/home/baxter/baxter_control'\n",
      "os.chdir(cur_dir)\n",
      "filename = 'output7.csv'\n",
      "\n",
      "# Load data into variables\n",
      "time = getColumn(filename,0)\n",
      "actual_pos = getColumn(filename,1)\n",
      "desired_pos = getColumn(filename,2)\n",
      "time = [float(i) for i in time]\n",
      "actual_pos = [float(i) for i in actual_pos]\n",
      "desired_pos = [float(i) for i in desired_pos]\n",
      "time = np.asarray(time)\n",
      "actual_pos = np.asarray(actual_pos)\n",
      "desired_pos = np.asarray(desired_pos)\n",
      "\n",
      "# Plot the data\n",
      "plt.figure(\"Actual vs Desired Position\")\n",
      "plt.xlabel(\"Time (s)\")\n",
      "plt.ylabel(\"Angular Position (rad)\")\n",
      "plt.plot(time,actual_pos,'o',time,desired_pos,'-')\n",
      "plt.show()\n",
      "\n",
      "'''# Find local maxima and minima\n",
      "\n",
      "maxes = actual_pos[argrelextrema(actual_pos, np.greater, order=30)][0]\n",
      "mins = actual_pos[argrelextrema(actual_pos, np.less, order=30)][0]\n",
      "\n",
      "# Take average of these results\n",
      "avg_max = np.mean(maxes)\n",
      "avg_min = np.mean(mins)\n",
      "\n",
      "# Print average peak-to-peak\n",
      "peak_to_peak = avg_max - avg_min\n",
      "print(peak_to_peak)'''\n",
      "\n",
      "'''\n",
      "\n",
      ">>> x = np.linspace(0, 10, num=11, endpoint=True)\n",
      ">>> y = np.cos(-x**2/9.0)\n",
      ">>> f = interp1d(x, y)\n",
      ">>> f2 = interp1d(x, y, kind='cubic')\n",
      "\n",
      ">>>\n",
      "\n",
      ">>> xnew = np.linspace(0, 10, num=41, endpoint=True)\n",
      ">>> import matplotlib.pyplot as plt\n",
      ">>> plt.plot(x, y, 'o', xnew, f(xnew), '-', xnew, f2(xnew), '--')\n",
      ">>> plt.legend(['data', 'linear', 'cubic'], loc='best')\n",
      ">>> plt.show()'''\n",
      "\n"
     ],
     "language": "python",
     "metadata": {},
     "outputs": [
      {
       "metadata": {},
       "output_type": "pyout",
       "prompt_number": 94,
       "text": [
        "\"\\n\\n>>> x = np.linspace(0, 10, num=11, endpoint=True)\\n>>> y = np.cos(-x**2/9.0)\\n>>> f = interp1d(x, y)\\n>>> f2 = interp1d(x, y, kind='cubic')\\n\\n>>>\\n\\n>>> xnew = np.linspace(0, 10, num=41, endpoint=True)\\n>>> import matplotlib.pyplot as plt\\n>>> plt.plot(x, y, 'o', xnew, f(xnew), '-', xnew, f2(xnew), '--')\\n>>> plt.legend(['data', 'linear', 'cubic'], loc='best')\\n>>> plt.show()\""
       ]
      }
     ],
     "prompt_number": 94
    },
    {
     "cell_type": "code",
     "collapsed": false,
     "input": [],
     "language": "python",
     "metadata": {},
     "outputs": []
    }
   ],
   "metadata": {}
  }
 ]
}